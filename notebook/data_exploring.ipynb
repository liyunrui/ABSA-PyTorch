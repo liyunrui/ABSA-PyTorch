{
 "cells": [
  {
   "cell_type": "code",
   "execution_count": 3,
   "metadata": {},
   "outputs": [],
   "source": [
    "import pandas as pd\n",
    "pd.options.display.max_colwidth = 800\n",
    "pd.options.display.max_rows = 200\n",
    "pd.options.display.max_columns = 100\n",
    "reviews_df = pd.read_excel('../datasets/Reviews_more.xlsx')"
   ]
  },
  {
   "cell_type": "code",
   "execution_count": 4,
   "metadata": {},
   "outputs": [
    {
     "data": {
      "text/html": [
       "<div>\n",
       "<style scoped>\n",
       "    .dataframe tbody tr th:only-of-type {\n",
       "        vertical-align: middle;\n",
       "    }\n",
       "\n",
       "    .dataframe tbody tr th {\n",
       "        vertical-align: top;\n",
       "    }\n",
       "\n",
       "    .dataframe thead th {\n",
       "        text-align: right;\n",
       "    }\n",
       "</style>\n",
       "<table border=\"1\" class=\"dataframe\">\n",
       "  <thead>\n",
       "    <tr style=\"text-align: right;\">\n",
       "      <th></th>\n",
       "      <th>Omdöme</th>\n",
       "      <th>Generell</th>\n",
       "      <th>Komfort</th>\n",
       "      <th>Ljud</th>\n",
       "      <th>Batteri</th>\n",
       "    </tr>\n",
       "  </thead>\n",
       "  <tbody>\n",
       "    <tr>\n",
       "      <td>0</td>\n",
       "      <td>Tvättbara kuddar och huvudband, och mikrofon samt fjärrkontroll och ett okej ljud för bara 250 kronor. De åker av om man gör ett hastigt kast framåt med huvudet, och de klämmer lite hårt på glasögonen.</td>\n",
       "      <td>NaN</td>\n",
       "      <td>Negativ</td>\n",
       "      <td>Positiv</td>\n",
       "      <td>NaN</td>\n",
       "    </tr>\n",
       "    <tr>\n",
       "      <td>1</td>\n",
       "      <td>Eftersom jag lyssnar mest på klassisk musik testade jag hörlurarna på Brahms klarinett trio med Martin Fröst och tyckte det lät mycket bra. Lurarna är lätta och verkar också isolera bra från störande ljud i omgivningen.</td>\n",
       "      <td>NaN</td>\n",
       "      <td>Positiv</td>\n",
       "      <td>Positiv</td>\n",
       "      <td>NaN</td>\n",
       "    </tr>\n",
       "    <tr>\n",
       "      <td>2</td>\n",
       "      <td>Köpte dessa Sonys för att använda i hemmastudio. De är välbyggda, kvalitativa och sköna att ha på sig - ljudet är förstås mycket bra och \"platt\". Bra för mixing and mastering. Rekommenderas!</td>\n",
       "      <td>Positiv</td>\n",
       "      <td>Positiv</td>\n",
       "      <td>Positiv</td>\n",
       "      <td>NaN</td>\n",
       "    </tr>\n",
       "    <tr>\n",
       "      <td>3</td>\n",
       "      <td>Har flera vänner som äger dessa klassiker, och som pratade sig varma om hur bra de är i relation till priset. Köpte dessa för att ha som hörlurar i hemmastudion, men använder de allt mer även till vardags. Skärmar omgivande ljud bra, ger en balanserad ljudbild och kan bäras utan problem en hel dag.</td>\n",
       "      <td>Positiv</td>\n",
       "      <td>Positiv</td>\n",
       "      <td>Positiv</td>\n",
       "      <td>NaN</td>\n",
       "    </tr>\n",
       "    <tr>\n",
       "      <td>4</td>\n",
       "      <td>Klassiska slutna och robusta studiohörlurar. Går bra att mix i. Billagare alternativ till de mer väljudande DT-770.</td>\n",
       "      <td>Positiv</td>\n",
       "      <td>NaN</td>\n",
       "      <td>NaN</td>\n",
       "      <td>NaN</td>\n",
       "    </tr>\n",
       "    <tr>\n",
       "      <td>...</td>\n",
       "      <td>...</td>\n",
       "      <td>...</td>\n",
       "      <td>...</td>\n",
       "      <td>...</td>\n",
       "      <td>...</td>\n",
       "    </tr>\n",
       "    <tr>\n",
       "      <td>924</td>\n",
       "      <td>Efter att ha läst några andra recensioner som säger att dem är ömtåliga så tror jag att jag motsatsen till ett måndagsexemplar. Dem har tagit så sjukt mycket stryk från att ha ramlat ner från skrivbordet säkert 30-40 gånger, blivit avslängda i ilska av undertecknad.</td>\n",
       "      <td>NaN</td>\n",
       "      <td>NaN</td>\n",
       "      <td>NaN</td>\n",
       "      <td>NaN</td>\n",
       "    </tr>\n",
       "    <tr>\n",
       "      <td>925</td>\n",
       "      <td>Bästa gamingheadsetet jag nånsin ägt jätte skön att ha på sig och man skulle säkert kunna ha på sig den 24 timmar utan att få ont i öronen</td>\n",
       "      <td>Positiv</td>\n",
       "      <td>Positiv</td>\n",
       "      <td>NaN</td>\n",
       "      <td>NaN</td>\n",
       "    </tr>\n",
       "    <tr>\n",
       "      <td>926</td>\n",
       "      <td>Jag såg en recension från Hardware Canucks på youtube om detta headset, vilket gav mig rätt bra vibbar om det här headsetet.</td>\n",
       "      <td>NaN</td>\n",
       "      <td>NaN</td>\n",
       "      <td>NaN</td>\n",
       "      <td>NaN</td>\n",
       "    </tr>\n",
       "    <tr>\n",
       "      <td>927</td>\n",
       "      <td>Hörlurarna sitter riktigt bra på huvudet, goda inställningsmöjligheter och relativt bra ljud! Dock har jag erfarat lite småproblem när jag kört dom via USB, så nu kör jag dom via 3,5mm jack - emulerad 7.1 är överskattat ändå.</td>\n",
       "      <td>NaN</td>\n",
       "      <td>Positiv</td>\n",
       "      <td>Positiv</td>\n",
       "      <td>NaN</td>\n",
       "    </tr>\n",
       "    <tr>\n",
       "      <td>928</td>\n",
       "      <td>För ungefär en månad sen skaffade jag dessa hörlurar. Dem fungerade fantastiskt, ljudet, funktionerna och allt. Men sen började 180 graders funktionen på lurarna trassla in sladdarna; vilket ledde till att jag tappade dem en gång och då gick dem sönder.</td>\n",
       "      <td>Negativ</td>\n",
       "      <td>NaN</td>\n",
       "      <td>NaN</td>\n",
       "      <td>NaN</td>\n",
       "    </tr>\n",
       "  </tbody>\n",
       "</table>\n",
       "<p>929 rows × 5 columns</p>\n",
       "</div>"
      ],
      "text/plain": [
       "                                                                                                                                                                                                                                                                                                          Omdöme  \\\n",
       "0                                                                                                      Tvättbara kuddar och huvudband, och mikrofon samt fjärrkontroll och ett okej ljud för bara 250 kronor. De åker av om man gör ett hastigt kast framåt med huvudet, och de klämmer lite hårt på glasögonen.   \n",
       "1                                                                                    Eftersom jag lyssnar mest på klassisk musik testade jag hörlurarna på Brahms klarinett trio med Martin Fröst och tyckte det lät mycket bra. Lurarna är lätta och verkar också isolera bra från störande ljud i omgivningen.   \n",
       "2                                                                                                                 Köpte dessa Sonys för att använda i hemmastudio. De är välbyggda, kvalitativa och sköna att ha på sig - ljudet är förstås mycket bra och \"platt\". Bra för mixing and mastering. Rekommenderas!   \n",
       "3    Har flera vänner som äger dessa klassiker, och som pratade sig varma om hur bra de är i relation till priset. Köpte dessa för att ha som hörlurar i hemmastudion, men använder de allt mer även till vardags. Skärmar omgivande ljud bra, ger en balanserad ljudbild och kan bäras utan problem en hel dag.   \n",
       "4                                                                                                                                                                                            Klassiska slutna och robusta studiohörlurar. Går bra att mix i. Billagare alternativ till de mer väljudande DT-770.   \n",
       "..                                                                                                                                                                                                                                                                                                           ...   \n",
       "924                                   Efter att ha läst några andra recensioner som säger att dem är ömtåliga så tror jag att jag motsatsen till ett måndagsexemplar. Dem har tagit så sjukt mycket stryk från att ha ramlat ner från skrivbordet säkert 30-40 gånger, blivit avslängda i ilska av undertecknad.   \n",
       "925                                                                                                                                                                   Bästa gamingheadsetet jag nånsin ägt jätte skön att ha på sig och man skulle säkert kunna ha på sig den 24 timmar utan att få ont i öronen   \n",
       "926                                                                                                                                                                                 Jag såg en recension från Hardware Canucks på youtube om detta headset, vilket gav mig rätt bra vibbar om det här headsetet.   \n",
       "927                                                                            Hörlurarna sitter riktigt bra på huvudet, goda inställningsmöjligheter och relativt bra ljud! Dock har jag erfarat lite småproblem när jag kört dom via USB, så nu kör jag dom via 3,5mm jack - emulerad 7.1 är överskattat ändå.   \n",
       "928                                                För ungefär en månad sen skaffade jag dessa hörlurar. Dem fungerade fantastiskt, ljudet, funktionerna och allt. Men sen började 180 graders funktionen på lurarna trassla in sladdarna; vilket ledde till att jag tappade dem en gång och då gick dem sönder.   \n",
       "\n",
       "    Generell  Komfort     Ljud Batteri  \n",
       "0        NaN  Negativ  Positiv     NaN  \n",
       "1        NaN  Positiv  Positiv     NaN  \n",
       "2    Positiv  Positiv  Positiv     NaN  \n",
       "3    Positiv  Positiv  Positiv     NaN  \n",
       "4    Positiv      NaN      NaN     NaN  \n",
       "..       ...      ...      ...     ...  \n",
       "924      NaN      NaN      NaN     NaN  \n",
       "925  Positiv  Positiv      NaN     NaN  \n",
       "926      NaN      NaN      NaN     NaN  \n",
       "927      NaN  Positiv  Positiv     NaN  \n",
       "928  Negativ      NaN      NaN     NaN  \n",
       "\n",
       "[929 rows x 5 columns]"
      ]
     },
     "execution_count": 4,
     "metadata": {},
     "output_type": "execute_result"
    }
   ],
   "source": [
    "\"\"\"\n",
    "1.) 4 aspects (closed)\n",
    "2.) Convert comment to English as data augmentation(if needed)\n",
    "3.) Opnion|General|Comfort|Sound|Battery|\n",
    "\n",
    "\n",
    "1.这里我们的一个sample其实只包括一个句子和一个aspect。我們假設一個句子中不同aspects不會相互干擾\n",
    "\n",
    "\n",
    "Case1: Aspect is in text(closed)\n",
    "Case2: Aspect is not in text(open)\n",
    "\n",
    "Paper的Dataset目前是屬於case1.\n",
    "\n",
    "How to infer a comment?\n",
    "Let's say input comment is\n",
    "\n",
    "Washable pillows and headbands, and microphone as well as remote control and an okay sound for only SEK 250. \n",
    "They go off if you make a quick throw forward with your head, and they squeeze a little hard on the glasses.\n",
    "\n",
    "Way1: Given an aspect(Only one aspect at one time and it has to be in the text) --> case1\n",
    "\n",
    "Way2: Given an aspect(any aspect but given aspects such as \n",
    "    1.General \n",
    "    2.Comfort \n",
    "    3.Sound \n",
    "    4.Battery\n",
    "\n",
    "\n",
    "Q1:等下確認他有用到aspect in index 的資訊在input嗎？ \n",
    "A1: 沒有\n",
    "\n",
    "Pain Point:\n",
    "現在的model沒有aspect extraction, 你要決定這是哪一個aspect(且這個aspect要在句子中)\n",
    "\"\"\"\n",
    "# 4 aspects (closed)\n",
    "reviews_df"
   ]
  },
  {
   "cell_type": "code",
   "execution_count": 5,
   "metadata": {},
   "outputs": [],
   "source": [
    "# 現在要怎麼準備training data? \n",
    "# way1: aspect就給死($T$ 放在句子中的哪裡會較合理), 但他不一定會在text, 硬train一發(反正for bert_spc or aspect_bert_indices 看起來都沒有用aspect in index information)\n",
    "# 先把fixed aspect都放在句子最後面硬train\n",
    "# way2: 要human標出具體的aspect, 這個aspect有出現在句字中, paper中的model現在是支援\n",
    "# Given a context sequence wc = {w1c , w2c , ..., wnc } and a target sequence wt = {w1t , w2t , ..., wmt }, \n",
    "# where wt is a sub-sequence of wc. \n",
    "# The goal of this model is to predict the sentiment polarity of the sentence wc over the target wt.(wt必須sub-sequence)"
   ]
  },
  {
   "cell_type": "markdown",
   "metadata": {},
   "source": [
    "# reviews_df label analysis"
   ]
  },
  {
   "cell_type": "code",
   "execution_count": 6,
   "metadata": {},
   "outputs": [
    {
     "data": {
      "text/plain": [
       "Positiv    447\n",
       "NaN        385\n",
       "Negativ     97\n",
       "Name: Ljud, dtype: int64"
      ]
     },
     "execution_count": 6,
     "metadata": {},
     "output_type": "execute_result"
    }
   ],
   "source": [
    "reviews_df.Ljud.value_counts(dropna=False)"
   ]
  },
  {
   "cell_type": "code",
   "execution_count": 7,
   "metadata": {},
   "outputs": [
    {
     "data": {
      "text/plain": [
       "NaN        615\n",
       "Positiv    255\n",
       "Negativ     59\n",
       "Name: Komfort, dtype: int64"
      ]
     },
     "execution_count": 7,
     "metadata": {},
     "output_type": "execute_result"
    }
   ],
   "source": [
    "reviews_df.Komfort.value_counts(dropna=False)"
   ]
  },
  {
   "cell_type": "code",
   "execution_count": 8,
   "metadata": {},
   "outputs": [
    {
     "data": {
      "text/plain": [
       "NaN        539\n",
       "Positiv    292\n",
       "Negativ     98\n",
       "Name: Generell, dtype: int64"
      ]
     },
     "execution_count": 8,
     "metadata": {},
     "output_type": "execute_result"
    }
   ],
   "source": [
    "reviews_df.Generell.value_counts(dropna=False)"
   ]
  },
  {
   "cell_type": "code",
   "execution_count": 9,
   "metadata": {},
   "outputs": [
    {
     "data": {
      "text/html": [
       "<div>\n",
       "<style scoped>\n",
       "    .dataframe tbody tr th:only-of-type {\n",
       "        vertical-align: middle;\n",
       "    }\n",
       "\n",
       "    .dataframe tbody tr th {\n",
       "        vertical-align: top;\n",
       "    }\n",
       "\n",
       "    .dataframe thead th {\n",
       "        text-align: right;\n",
       "    }\n",
       "</style>\n",
       "<table border=\"1\" class=\"dataframe\">\n",
       "  <thead>\n",
       "    <tr style=\"text-align: right;\">\n",
       "      <th></th>\n",
       "      <th>Omdöme</th>\n",
       "      <th>Generell</th>\n",
       "      <th>Komfort</th>\n",
       "      <th>Ljud</th>\n",
       "      <th>Batteri</th>\n",
       "    </tr>\n",
       "  </thead>\n",
       "  <tbody>\n",
       "    <tr>\n",
       "      <td>114</td>\n",
       "      <td>Bra Bose-igt ljud och komfort. Jag tål inte in-earlurar som dels förstärker fotstampet och dels stänger ute allt ljud.</td>\n",
       "      <td>NaN</td>\n",
       "      <td>Positiv</td>\n",
       "      <td>Positiv</td>\n",
       "      <td>NaN</td>\n",
       "    </tr>\n",
       "    <tr>\n",
       "      <td>94</td>\n",
       "      <td>Priset kanske är lite högt men när konkurrenterna med något sämre produkter har samma priser så kanske man får vara nöjd. Har använt dessa intensivt nu i ca 2 veckor och är lyrisk. Bekväma, inte för varma, jättebra brusreducering, precis lagom.</td>\n",
       "      <td>NaN</td>\n",
       "      <td>Positiv</td>\n",
       "      <td>NaN</td>\n",
       "      <td>NaN</td>\n",
       "    </tr>\n",
       "    <tr>\n",
       "      <td>411</td>\n",
       "      <td>+ Ljudet var bra, rätt trevlig bas. Bekväma. Mic'en är lätt att ta fram/gömma. Har inget att jämföra med, men räckvidden kändes ok (2 betongväggar + minst 5-10 m avstånd iaf)\\n\\n- Väldigt plastiga, knakar rätt mycket.</td>\n",
       "      <td>NaN</td>\n",
       "      <td>Positiv</td>\n",
       "      <td>Positiv</td>\n",
       "      <td>NaN</td>\n",
       "    </tr>\n",
       "    <tr>\n",
       "      <td>751</td>\n",
       "      <td>Köpte dessa lurar pga att de rekommenderats på hemsidan här. Bra köp tänkte jag. Inte alls så bra köp visade det sig. Finns i stort sett ingen bas alls i dem och ljuden är minst sagt mediokert. Mitt tips; prova ett par andra istället.</td>\n",
       "      <td>NaN</td>\n",
       "      <td>NaN</td>\n",
       "      <td>Negativ</td>\n",
       "      <td>NaN</td>\n",
       "    </tr>\n",
       "    <tr>\n",
       "      <td>671</td>\n",
       "      <td>Present till en 10 årig gamer. Bra kavalitet, superbra ljud och väldigt mjuka och sköna på öronen. Stänger ute väldigt mkt ljud ðð½ kan användas till många konsoler och dator samt mobil/padda.</td>\n",
       "      <td>NaN</td>\n",
       "      <td>Positiv</td>\n",
       "      <td>Positiv</td>\n",
       "      <td>NaN</td>\n",
       "    </tr>\n",
       "  </tbody>\n",
       "</table>\n",
       "</div>"
      ],
      "text/plain": [
       "                                                                                                                                                                                                                                                   Omdöme  \\\n",
       "114                                                                                                                                Bra Bose-igt ljud och komfort. Jag tål inte in-earlurar som dels förstärker fotstampet och dels stänger ute allt ljud.   \n",
       "94   Priset kanske är lite högt men när konkurrenterna med något sämre produkter har samma priser så kanske man får vara nöjd. Har använt dessa intensivt nu i ca 2 veckor och är lyrisk. Bekväma, inte för varma, jättebra brusreducering, precis lagom.   \n",
       "411                             + Ljudet var bra, rätt trevlig bas. Bekväma. Mic'en är lätt att ta fram/gömma. Har inget att jämföra med, men räckvidden kändes ok (2 betongväggar + minst 5-10 m avstånd iaf)\\n\\n- Väldigt plastiga, knakar rätt mycket.   \n",
       "751            Köpte dessa lurar pga att de rekommenderats på hemsidan här. Bra köp tänkte jag. Inte alls så bra köp visade det sig. Finns i stort sett ingen bas alls i dem och ljuden är minst sagt mediokert. Mitt tips; prova ett par andra istället.   \n",
       "671                                                 Present till en 10 årig gamer. Bra kavalitet, superbra ljud och väldigt mjuka och sköna på öronen. Stänger ute väldigt mkt ljud ðð½ kan användas till många konsoler och dator samt mobil/padda.   \n",
       "\n",
       "    Generell  Komfort     Ljud Batteri  \n",
       "114      NaN  Positiv  Positiv     NaN  \n",
       "94       NaN  Positiv      NaN     NaN  \n",
       "411      NaN  Positiv  Positiv     NaN  \n",
       "751      NaN      NaN  Negativ     NaN  \n",
       "671      NaN  Positiv  Positiv     NaN  "
      ]
     },
     "execution_count": 9,
     "metadata": {},
     "output_type": "execute_result"
    }
   ],
   "source": [
    "reviews_df[reviews_df.Generell.isnull()].sample(5)"
   ]
  },
  {
   "cell_type": "code",
   "execution_count": 10,
   "metadata": {},
   "outputs": [
    {
     "data": {
      "text/html": [
       "<div>\n",
       "<style scoped>\n",
       "    .dataframe tbody tr th:only-of-type {\n",
       "        vertical-align: middle;\n",
       "    }\n",
       "\n",
       "    .dataframe tbody tr th {\n",
       "        vertical-align: top;\n",
       "    }\n",
       "\n",
       "    .dataframe thead th {\n",
       "        text-align: right;\n",
       "    }\n",
       "</style>\n",
       "<table border=\"1\" class=\"dataframe\">\n",
       "  <thead>\n",
       "    <tr style=\"text-align: right;\">\n",
       "      <th></th>\n",
       "      <th>Omdöme</th>\n",
       "      <th>Generell</th>\n",
       "      <th>Komfort</th>\n",
       "      <th>Ljud</th>\n",
       "      <th>Batteri</th>\n",
       "    </tr>\n",
       "  </thead>\n",
       "  <tbody>\n",
       "    <tr>\n",
       "      <td>902</td>\n",
       "      <td>Köpt dessa i torsdags, har provat dom 2 gånger under en promenad och ett träningspass på gym.\\nUnder promenaden pratade jag i telefonen och motparten hörde snön under skorna o större sig på ljudkvalitén. Under samtalet klippte det konstant.</td>\n",
       "      <td>Negativ</td>\n",
       "      <td>NaN</td>\n",
       "      <td>Negativ</td>\n",
       "      <td>NaN</td>\n",
       "    </tr>\n",
       "    <tr>\n",
       "      <td>21</td>\n",
       "      <td>VARNING. Om man inte är försiktig när man tar ut hörlurarna kan silicon buden fastna långt in i örat. Dem har gjort det för mig två gånger nu. De kan fastna väldigt långt in och det är både farligt och obehagligt. Jag vågar inte använda dem längre tyvärr..</td>\n",
       "      <td>Negativ</td>\n",
       "      <td>NaN</td>\n",
       "      <td>NaN</td>\n",
       "      <td>NaN</td>\n",
       "    </tr>\n",
       "    <tr>\n",
       "      <td>437</td>\n",
       "      <td>The g933 has amazing sound but that is the about the only good thing this headset offers you!</td>\n",
       "      <td>Negativ</td>\n",
       "      <td>NaN</td>\n",
       "      <td>Positiv</td>\n",
       "      <td>NaN</td>\n",
       "    </tr>\n",
       "    <tr>\n",
       "      <td>404</td>\n",
       "      <td>Har tidigare haft Logitech G930 som jag var jättenöjd med, köpte G933 Augusti 2016 och har haft blandade erfarenheter med dessa. Efter några månaders användning började headset:et tappa anslutningen till USB-recievern så jag fick återställa anslutningen varje gång batteriet tagit slut.</td>\n",
       "      <td>Negativ</td>\n",
       "      <td>NaN</td>\n",
       "      <td>NaN</td>\n",
       "      <td>NaN</td>\n",
       "    </tr>\n",
       "    <tr>\n",
       "      <td>625</td>\n",
       "      <td>Köpte detta headset för 1 månad sedan. Och efter en vecka började kontakten lagga. Tillslut funkade inte högra örat. Har nästan inte använt den alls. Ren skit. Inte värt pengarna. Bara plast...</td>\n",
       "      <td>Negativ</td>\n",
       "      <td>NaN</td>\n",
       "      <td>Negativ</td>\n",
       "      <td>NaN</td>\n",
       "    </tr>\n",
       "  </tbody>\n",
       "</table>\n",
       "</div>"
      ],
      "text/plain": [
       "                                                                                                                                                                                                                                                                                             Omdöme  \\\n",
       "902                                                Köpt dessa i torsdags, har provat dom 2 gånger under en promenad och ett träningspass på gym.\\nUnder promenaden pratade jag i telefonen och motparten hörde snön under skorna o större sig på ljudkvalitén. Under samtalet klippte det konstant.   \n",
       "21                                 VARNING. Om man inte är försiktig när man tar ut hörlurarna kan silicon buden fastna långt in i örat. Dem har gjort det för mig två gånger nu. De kan fastna väldigt långt in och det är både farligt och obehagligt. Jag vågar inte använda dem längre tyvärr..   \n",
       "437                                                                                                                                                                                                   The g933 has amazing sound but that is the about the only good thing this headset offers you!   \n",
       "404  Har tidigare haft Logitech G930 som jag var jättenöjd med, köpte G933 Augusti 2016 och har haft blandade erfarenheter med dessa. Efter några månaders användning började headset:et tappa anslutningen till USB-recievern så jag fick återställa anslutningen varje gång batteriet tagit slut.   \n",
       "625                                                                                               Köpte detta headset för 1 månad sedan. Och efter en vecka började kontakten lagga. Tillslut funkade inte högra örat. Har nästan inte använt den alls. Ren skit. Inte värt pengarna. Bara plast...   \n",
       "\n",
       "    Generell Komfort     Ljud Batteri  \n",
       "902  Negativ     NaN  Negativ     NaN  \n",
       "21   Negativ     NaN      NaN     NaN  \n",
       "437  Negativ     NaN  Positiv     NaN  \n",
       "404  Negativ     NaN      NaN     NaN  \n",
       "625  Negativ     NaN  Negativ     NaN  "
      ]
     },
     "execution_count": 10,
     "metadata": {},
     "output_type": "execute_result"
    }
   ],
   "source": [
    "reviews_df[reviews_df.Generell==\"Negativ\"].sample(5)"
   ]
  },
  {
   "cell_type": "code",
   "execution_count": 11,
   "metadata": {},
   "outputs": [
    {
     "data": {
      "text/html": [
       "<div>\n",
       "<style scoped>\n",
       "    .dataframe tbody tr th:only-of-type {\n",
       "        vertical-align: middle;\n",
       "    }\n",
       "\n",
       "    .dataframe tbody tr th {\n",
       "        vertical-align: top;\n",
       "    }\n",
       "\n",
       "    .dataframe thead th {\n",
       "        text-align: right;\n",
       "    }\n",
       "</style>\n",
       "<table border=\"1\" class=\"dataframe\">\n",
       "  <thead>\n",
       "    <tr style=\"text-align: right;\">\n",
       "      <th></th>\n",
       "      <th>Omdöme</th>\n",
       "      <th>Generell</th>\n",
       "      <th>Komfort</th>\n",
       "      <th>Ljud</th>\n",
       "      <th>Batteri</th>\n",
       "    </tr>\n",
       "  </thead>\n",
       "  <tbody>\n",
       "    <tr>\n",
       "      <td>448</td>\n",
       "      <td>har nu haft g933 i en månad och måste säga att jag är väldigt nöjd! ibörjan satt jag och skrek då det kan koppla ifrån!</td>\n",
       "      <td>Positiv</td>\n",
       "      <td>NaN</td>\n",
       "      <td>NaN</td>\n",
       "      <td>NaN</td>\n",
       "    </tr>\n",
       "    <tr>\n",
       "      <td>47</td>\n",
       "      <td>Otroligt nöjd med dessa lurar! :) Väldig kvalitetskänsla och bra ljud. Batteriet verkar typ aldrig ta slut. Mycket bra!</td>\n",
       "      <td>Positiv</td>\n",
       "      <td>NaN</td>\n",
       "      <td>Positiv</td>\n",
       "      <td>Positiv</td>\n",
       "    </tr>\n",
       "    <tr>\n",
       "      <td>261</td>\n",
       "      <td>Super bra produkt med bra passform .Rekommenderas till alla</td>\n",
       "      <td>Positiv</td>\n",
       "      <td>Positiv</td>\n",
       "      <td>NaN</td>\n",
       "      <td>NaN</td>\n",
       "    </tr>\n",
       "    <tr>\n",
       "      <td>168</td>\n",
       "      <td>Har varit ett fan av Sennheisers in ear en längre tid, men ville ha några sköna lurar att kunna ta med på resor och även hemma vid tvn, så jag googlade lite och dessa hade fått topp betyg och jag är verkligen INTE besviken!\\nSennheiser levererar åter igen</td>\n",
       "      <td>Positiv</td>\n",
       "      <td>NaN</td>\n",
       "      <td>NaN</td>\n",
       "      <td>NaN</td>\n",
       "    </tr>\n",
       "    <tr>\n",
       "      <td>672</td>\n",
       "      <td>Jag tycker att denna produkt är bra för att ha till att spela med men även med att prata med andra var lite problem i början men det löste sig snabbt</td>\n",
       "      <td>Positiv</td>\n",
       "      <td>NaN</td>\n",
       "      <td>NaN</td>\n",
       "      <td>NaN</td>\n",
       "    </tr>\n",
       "  </tbody>\n",
       "</table>\n",
       "</div>"
      ],
      "text/plain": [
       "                                                                                                                                                                                                                                                              Omdöme  \\\n",
       "448                                                                                                                                          har nu haft g933 i en månad och måste säga att jag är väldigt nöjd! ibörjan satt jag och skrek då det kan koppla ifrån!   \n",
       "47                                                                                                                                           Otroligt nöjd med dessa lurar! :) Väldig kvalitetskänsla och bra ljud. Batteriet verkar typ aldrig ta slut. Mycket bra!   \n",
       "261                                                                                                                                                                                                      Super bra produkt med bra passform .Rekommenderas till alla   \n",
       "168  Har varit ett fan av Sennheisers in ear en längre tid, men ville ha några sköna lurar att kunna ta med på resor och även hemma vid tvn, så jag googlade lite och dessa hade fått topp betyg och jag är verkligen INTE besviken!\\nSennheiser levererar åter igen   \n",
       "672                                                                                                            Jag tycker att denna produkt är bra för att ha till att spela med men även med att prata med andra var lite problem i början men det löste sig snabbt   \n",
       "\n",
       "    Generell  Komfort     Ljud  Batteri  \n",
       "448  Positiv      NaN      NaN      NaN  \n",
       "47   Positiv      NaN  Positiv  Positiv  \n",
       "261  Positiv  Positiv      NaN      NaN  \n",
       "168  Positiv      NaN      NaN      NaN  \n",
       "672  Positiv      NaN      NaN      NaN  "
      ]
     },
     "execution_count": 11,
     "metadata": {},
     "output_type": "execute_result"
    }
   ],
   "source": [
    "reviews_df[reviews_df.Generell==\"Positiv\"].sample(5)"
   ]
  },
  {
   "cell_type": "markdown",
   "metadata": {},
   "source": [
    "# prepare training data"
   ]
  },
  {
   "cell_type": "code",
   "execution_count": 12,
   "metadata": {},
   "outputs": [
    {
     "data": {
      "text/plain": [
       "['Omdöme', 'Generell', 'Komfort', 'Ljud', 'Batteri']"
      ]
     },
     "execution_count": 12,
     "metadata": {},
     "output_type": "execute_result"
    }
   ],
   "source": [
    "reviews_df.columns.tolist()"
   ]
  },
  {
   "cell_type": "code",
   "execution_count": 28,
   "metadata": {},
   "outputs": [
    {
     "data": {
      "text/html": [
       "<div>\n",
       "<style scoped>\n",
       "    .dataframe tbody tr th:only-of-type {\n",
       "        vertical-align: middle;\n",
       "    }\n",
       "\n",
       "    .dataframe tbody tr th {\n",
       "        vertical-align: top;\n",
       "    }\n",
       "\n",
       "    .dataframe thead th {\n",
       "        text-align: right;\n",
       "    }\n",
       "</style>\n",
       "<table border=\"1\" class=\"dataframe\">\n",
       "  <thead>\n",
       "    <tr style=\"text-align: right;\">\n",
       "      <th></th>\n",
       "      <th>Omdöme</th>\n",
       "      <th>Generell</th>\n",
       "      <th>Komfort</th>\n",
       "      <th>Ljud</th>\n",
       "      <th>Batteri</th>\n",
       "    </tr>\n",
       "  </thead>\n",
       "  <tbody>\n",
       "    <tr>\n",
       "      <td>0</td>\n",
       "      <td>Tvättbara kuddar och huvudband, och mikrofon samt fjärrkontroll och ett okej ljud för bara 250 kronor. De åker av om man gör ett hastigt kast framåt med huvudet, och de klämmer lite hårt på glasögonen.</td>\n",
       "      <td>0</td>\n",
       "      <td>-1</td>\n",
       "      <td>1</td>\n",
       "      <td>0</td>\n",
       "    </tr>\n",
       "    <tr>\n",
       "      <td>1</td>\n",
       "      <td>Eftersom jag lyssnar mest på klassisk musik testade jag hörlurarna på Brahms klarinett trio med Martin Fröst och tyckte det lät mycket bra. Lurarna är lätta och verkar också isolera bra från störande ljud i omgivningen.</td>\n",
       "      <td>0</td>\n",
       "      <td>1</td>\n",
       "      <td>1</td>\n",
       "      <td>0</td>\n",
       "    </tr>\n",
       "    <tr>\n",
       "      <td>2</td>\n",
       "      <td>Köpte dessa Sonys för att använda i hemmastudio. De är välbyggda, kvalitativa och sköna att ha på sig - ljudet är förstås mycket bra och \"platt\". Bra för mixing and mastering. Rekommenderas!</td>\n",
       "      <td>1</td>\n",
       "      <td>1</td>\n",
       "      <td>1</td>\n",
       "      <td>0</td>\n",
       "    </tr>\n",
       "    <tr>\n",
       "      <td>3</td>\n",
       "      <td>Har flera vänner som äger dessa klassiker, och som pratade sig varma om hur bra de är i relation till priset. Köpte dessa för att ha som hörlurar i hemmastudion, men använder de allt mer även till vardags. Skärmar omgivande ljud bra, ger en balanserad ljudbild och kan bäras utan problem en hel dag.</td>\n",
       "      <td>1</td>\n",
       "      <td>1</td>\n",
       "      <td>1</td>\n",
       "      <td>0</td>\n",
       "    </tr>\n",
       "    <tr>\n",
       "      <td>4</td>\n",
       "      <td>Klassiska slutna och robusta studiohörlurar. Går bra att mix i. Billagare alternativ till de mer väljudande DT-770.</td>\n",
       "      <td>1</td>\n",
       "      <td>0</td>\n",
       "      <td>0</td>\n",
       "      <td>0</td>\n",
       "    </tr>\n",
       "    <tr>\n",
       "      <td>...</td>\n",
       "      <td>...</td>\n",
       "      <td>...</td>\n",
       "      <td>...</td>\n",
       "      <td>...</td>\n",
       "      <td>...</td>\n",
       "    </tr>\n",
       "    <tr>\n",
       "      <td>924</td>\n",
       "      <td>Efter att ha läst några andra recensioner som säger att dem är ömtåliga så tror jag att jag motsatsen till ett måndagsexemplar. Dem har tagit så sjukt mycket stryk från att ha ramlat ner från skrivbordet säkert 30-40 gånger, blivit avslängda i ilska av undertecknad.</td>\n",
       "      <td>0</td>\n",
       "      <td>0</td>\n",
       "      <td>0</td>\n",
       "      <td>0</td>\n",
       "    </tr>\n",
       "    <tr>\n",
       "      <td>925</td>\n",
       "      <td>Bästa gamingheadsetet jag nånsin ägt jätte skön att ha på sig och man skulle säkert kunna ha på sig den 24 timmar utan att få ont i öronen</td>\n",
       "      <td>1</td>\n",
       "      <td>1</td>\n",
       "      <td>0</td>\n",
       "      <td>0</td>\n",
       "    </tr>\n",
       "    <tr>\n",
       "      <td>926</td>\n",
       "      <td>Jag såg en recension från Hardware Canucks på youtube om detta headset, vilket gav mig rätt bra vibbar om det här headsetet.</td>\n",
       "      <td>0</td>\n",
       "      <td>0</td>\n",
       "      <td>0</td>\n",
       "      <td>0</td>\n",
       "    </tr>\n",
       "    <tr>\n",
       "      <td>927</td>\n",
       "      <td>Hörlurarna sitter riktigt bra på huvudet, goda inställningsmöjligheter och relativt bra ljud! Dock har jag erfarat lite småproblem när jag kört dom via USB, så nu kör jag dom via 3,5mm jack - emulerad 7.1 är överskattat ändå.</td>\n",
       "      <td>0</td>\n",
       "      <td>1</td>\n",
       "      <td>1</td>\n",
       "      <td>0</td>\n",
       "    </tr>\n",
       "    <tr>\n",
       "      <td>928</td>\n",
       "      <td>För ungefär en månad sen skaffade jag dessa hörlurar. Dem fungerade fantastiskt, ljudet, funktionerna och allt. Men sen började 180 graders funktionen på lurarna trassla in sladdarna; vilket ledde till att jag tappade dem en gång och då gick dem sönder.</td>\n",
       "      <td>-1</td>\n",
       "      <td>0</td>\n",
       "      <td>0</td>\n",
       "      <td>0</td>\n",
       "    </tr>\n",
       "  </tbody>\n",
       "</table>\n",
       "<p>929 rows × 5 columns</p>\n",
       "</div>"
      ],
      "text/plain": [
       "                                                                                                                                                                                                                                                                                                          Omdöme  \\\n",
       "0                                                                                                      Tvättbara kuddar och huvudband, och mikrofon samt fjärrkontroll och ett okej ljud för bara 250 kronor. De åker av om man gör ett hastigt kast framåt med huvudet, och de klämmer lite hårt på glasögonen.   \n",
       "1                                                                                    Eftersom jag lyssnar mest på klassisk musik testade jag hörlurarna på Brahms klarinett trio med Martin Fröst och tyckte det lät mycket bra. Lurarna är lätta och verkar också isolera bra från störande ljud i omgivningen.   \n",
       "2                                                                                                                 Köpte dessa Sonys för att använda i hemmastudio. De är välbyggda, kvalitativa och sköna att ha på sig - ljudet är förstås mycket bra och \"platt\". Bra för mixing and mastering. Rekommenderas!   \n",
       "3    Har flera vänner som äger dessa klassiker, och som pratade sig varma om hur bra de är i relation till priset. Köpte dessa för att ha som hörlurar i hemmastudion, men använder de allt mer även till vardags. Skärmar omgivande ljud bra, ger en balanserad ljudbild och kan bäras utan problem en hel dag.   \n",
       "4                                                                                                                                                                                            Klassiska slutna och robusta studiohörlurar. Går bra att mix i. Billagare alternativ till de mer väljudande DT-770.   \n",
       "..                                                                                                                                                                                                                                                                                                           ...   \n",
       "924                                   Efter att ha läst några andra recensioner som säger att dem är ömtåliga så tror jag att jag motsatsen till ett måndagsexemplar. Dem har tagit så sjukt mycket stryk från att ha ramlat ner från skrivbordet säkert 30-40 gånger, blivit avslängda i ilska av undertecknad.   \n",
       "925                                                                                                                                                                   Bästa gamingheadsetet jag nånsin ägt jätte skön att ha på sig och man skulle säkert kunna ha på sig den 24 timmar utan att få ont i öronen   \n",
       "926                                                                                                                                                                                 Jag såg en recension från Hardware Canucks på youtube om detta headset, vilket gav mig rätt bra vibbar om det här headsetet.   \n",
       "927                                                                            Hörlurarna sitter riktigt bra på huvudet, goda inställningsmöjligheter och relativt bra ljud! Dock har jag erfarat lite småproblem när jag kört dom via USB, så nu kör jag dom via 3,5mm jack - emulerad 7.1 är överskattat ändå.   \n",
       "928                                                För ungefär en månad sen skaffade jag dessa hörlurar. Dem fungerade fantastiskt, ljudet, funktionerna och allt. Men sen började 180 graders funktionen på lurarna trassla in sladdarna; vilket ledde till att jag tappade dem en gång och då gick dem sönder.   \n",
       "\n",
       "     Generell  Komfort  Ljud  Batteri  \n",
       "0           0       -1     1        0  \n",
       "1           0        1     1        0  \n",
       "2           1        1     1        0  \n",
       "3           1        1     1        0  \n",
       "4           1        0     0        0  \n",
       "..        ...      ...   ...      ...  \n",
       "924         0        0     0        0  \n",
       "925         1        1     0        0  \n",
       "926         0        0     0        0  \n",
       "927         0        1     1        0  \n",
       "928        -1        0     0        0  \n",
       "\n",
       "[929 rows x 5 columns]"
      ]
     },
     "execution_count": 28,
     "metadata": {},
     "output_type": "execute_result"
    }
   ],
   "source": [
    "# pre-proceesing\n",
    "reviews_df.fillna(0, inplace = True) # neutral\n",
    "# Generell\n",
    "reviews_df.Generell = reviews_df.Generell.apply(lambda x: 1 if x == \"Positiv\" else x) \n",
    "reviews_df.Generell = reviews_df.Generell.apply(lambda x: -1 if x == \"Negativ\" else x) \n",
    "# Komfort\n",
    "reviews_df.Komfort = reviews_df.Komfort.apply(lambda x: 1 if x == \"Positiv\" else x) \n",
    "reviews_df.Komfort = reviews_df.Komfort.apply(lambda x: -1 if x == \"Negativ\" else x) \n",
    "\n",
    "# Ljud\n",
    "reviews_df.Ljud = reviews_df.Ljud.apply(lambda x: 1 if x == \"Positiv\" else x) \n",
    "reviews_df.Ljud = reviews_df.Ljud.apply(lambda x: -1 if x == \"Negativ\" else x) \n",
    "\n",
    "# Batteri\n",
    "reviews_df.Batteri = reviews_df.Batteri.apply(lambda x: 1 if x == \"Positiv\" else x) \n",
    "reviews_df.Batteri = reviews_df.Batteri.apply(lambda x: -1 if x == \"Negativ\" else x) \n",
    "\n",
    "reviews_df"
   ]
  },
  {
   "cell_type": "code",
   "execution_count": 29,
   "metadata": {},
   "outputs": [
    {
     "data": {
      "text/plain": [
       "{'A': 1, 'B': 2}"
      ]
     },
     "execution_count": 29,
     "metadata": {},
     "output_type": "execute_result"
    }
   ],
   "source": [
    "d = {\"A\":1}\n",
    "d.update({\"B\":2})\n",
    "d"
   ]
  },
  {
   "cell_type": "code",
   "execution_count": 13,
   "metadata": {},
   "outputs": [
    {
     "name": "stdout",
     "output_type": "stream",
     "text": [
      "Tvättbara kuddar och huvudband, och mikrofon samt fjärrkontroll och ett okej ljud för bara 250 kronor. De åker av om man gör ett hastigt kast framåt med huvudet, och de klämmer lite hårt på glasögonen.\n",
      "Eftersom jag lyssnar mest på klassisk musik testade jag hörlurarna på Brahms klarinett trio med Martin Fröst och tyckte det lät mycket bra. Lurarna är lätta och verkar också isolera bra från störande ljud i omgivningen.\n",
      "Köpte dessa Sonys för att använda i hemmastudio. De är välbyggda, kvalitativa och sköna att ha på sig - ljudet är förstås mycket bra och \"platt\". Bra för mixing and mastering. Rekommenderas!\n",
      "Har flera vänner som äger dessa klassiker, och som pratade sig varma om hur bra de är i relation till priset. Köpte dessa för att ha som hörlurar i hemmastudion, men använder de allt mer även till vardags. Skärmar omgivande ljud bra, ger en balanserad ljudbild och kan bäras utan problem en hel dag.\n",
      "Klassiska slutna och robusta studiohörlurar. Går bra att mix i. Billagare alternativ till de mer väljudande DT-770.\n"
     ]
    }
   ],
   "source": [
    "data = []\n",
    "for ix, row in reviews_df.iterrows():\n",
    "    comment = row[\"Omdöme\"]\n",
    "    comment = comment.strip()\n",
    "    if ix < 5:\n",
    "        print (comment)\n",
    "    for aspect in ['Generell', 'Komfort', 'Ljud', 'Batteri']:\n",
    "        content = {\"text\":comment}\n",
    "        if aspect == 'Generell':\n",
    "            # aspect\n",
    "            content.update({\"aspect\":\"Product\"})\n",
    "            # polarity\n",
    "            content.update({\"polarity\":row[\"Generell\"]})\n",
    "        else:\n",
    "            content.update({\"aspect\": aspect})\n",
    "            content.update({\"polarity\":row[aspect]})\n",
    "        data.append(content)"
   ]
  },
  {
   "cell_type": "code",
   "execution_count": 14,
   "metadata": {},
   "outputs": [
    {
     "data": {
      "text/plain": [
       "3716"
      ]
     },
     "execution_count": 14,
     "metadata": {},
     "output_type": "execute_result"
    }
   ],
   "source": [
    "len(data)"
   ]
  },
  {
   "cell_type": "code",
   "execution_count": 15,
   "metadata": {},
   "outputs": [
    {
     "data": {
      "text/plain": [
       "{'text': 'Tvättbara kuddar och huvudband, och mikrofon samt fjärrkontroll och ett okej ljud för bara 250 kronor. De åker av om man gör ett hastigt kast framåt med huvudet, och de klämmer lite hårt på glasögonen.',\n",
       " 'aspect': 'Product',\n",
       " 'polarity': 0}"
      ]
     },
     "execution_count": 15,
     "metadata": {},
     "output_type": "execute_result"
    }
   ],
   "source": [
    "data[0]"
   ]
  },
  {
   "cell_type": "code",
   "execution_count": 16,
   "metadata": {},
   "outputs": [
    {
     "data": {
      "text/plain": [
       "{'text': 'Tvättbara kuddar och huvudband, och mikrofon samt fjärrkontroll och ett okej ljud för bara 250 kronor. De åker av om man gör ett hastigt kast framåt med huvudet, och de klämmer lite hårt på glasögonen.',\n",
       " 'aspect': 'Komfort',\n",
       " 'polarity': -1}"
      ]
     },
     "execution_count": 16,
     "metadata": {},
     "output_type": "execute_result"
    }
   ],
   "source": [
    "data[1]"
   ]
  },
  {
   "cell_type": "code",
   "execution_count": 17,
   "metadata": {},
   "outputs": [
    {
     "data": {
      "text/plain": [
       "{'text': 'Tvättbara kuddar och huvudband, och mikrofon samt fjärrkontroll och ett okej ljud för bara 250 kronor. De åker av om man gör ett hastigt kast framåt med huvudet, och de klämmer lite hårt på glasögonen.',\n",
       " 'aspect': 'Ljud',\n",
       " 'polarity': 1}"
      ]
     },
     "execution_count": 17,
     "metadata": {},
     "output_type": "execute_result"
    }
   ],
   "source": [
    "data[2]"
   ]
  },
  {
   "cell_type": "code",
   "execution_count": 18,
   "metadata": {},
   "outputs": [
    {
     "data": {
      "text/plain": [
       "{'text': 'Tvättbara kuddar och huvudband, och mikrofon samt fjärrkontroll och ett okej ljud för bara 250 kronor. De åker av om man gör ett hastigt kast framåt med huvudet, och de klämmer lite hårt på glasögonen.',\n",
       " 'aspect': 'Batteri',\n",
       " 'polarity': 0}"
      ]
     },
     "execution_count": 18,
     "metadata": {},
     "output_type": "execute_result"
    }
   ],
   "source": [
    "data[3]"
   ]
  },
  {
   "cell_type": "markdown",
   "metadata": {},
   "source": [
    "# train/test split"
   ]
  },
  {
   "cell_type": "code",
   "execution_count": 2,
   "metadata": {},
   "outputs": [
    {
     "ename": "NameError",
     "evalue": "name 'pd' is not defined",
     "output_type": "error",
     "traceback": [
      "\u001b[0;31m---------------------------------------------------------------\u001b[0m",
      "\u001b[0;31mNameError\u001b[0m                     Traceback (most recent call last)",
      "\u001b[0;32m<ipython-input-2-2a69301f6c58>\u001b[0m in \u001b[0;36m<module>\u001b[0;34m\u001b[0m\n\u001b[0;32m----> 1\u001b[0;31m \u001b[0mdata_df\u001b[0m \u001b[0;34m=\u001b[0m \u001b[0mpd\u001b[0m\u001b[0;34m.\u001b[0m\u001b[0mDataFrame\u001b[0m\u001b[0;34m(\u001b[0m\u001b[0mdata\u001b[0m\u001b[0;34m)\u001b[0m\u001b[0;34m.\u001b[0m\u001b[0mreset_index\u001b[0m\u001b[0;34m(\u001b[0m\u001b[0;34m)\u001b[0m\u001b[0;34m\u001b[0m\u001b[0m\n\u001b[0m\u001b[1;32m      2\u001b[0m \u001b[0mdata_df\u001b[0m\u001b[0;34m.\u001b[0m\u001b[0mhead\u001b[0m\u001b[0;34m(\u001b[0m\u001b[0;34m)\u001b[0m\u001b[0;34m\u001b[0m\u001b[0m\n",
      "\u001b[0;31mNameError\u001b[0m: name 'pd' is not defined"
     ]
    }
   ],
   "source": [
    "data_df = pd.DataFrame(data).reset_index()\n",
    "data_df.head()"
   ]
  },
  {
   "cell_type": "code",
   "execution_count": 18,
   "metadata": {},
   "outputs": [
    {
     "data": {
      "text/plain": [
       "<matplotlib.axes._subplots.AxesSubplot at 0x7f415d5755f8>"
      ]
     },
     "execution_count": 18,
     "metadata": {},
     "output_type": "execute_result"
    }
   ],
   "source": [
    "data_df.polarity.value_counts().plot(kind = \"bar\")"
   ]
  },
  {
   "cell_type": "code",
   "execution_count": 19,
   "metadata": {},
   "outputs": [
    {
     "name": "stdout",
     "output_type": "stream",
     "text": [
      "number of training data 2972\n"
     ]
    },
    {
     "data": {
      "text/plain": [
       "<matplotlib.axes._subplots.AxesSubplot at 0x7f415a6913c8>"
      ]
     },
     "execution_count": 19,
     "metadata": {},
     "output_type": "execute_result"
    },
    {
     "data": {
      "image/png": "[encoded data removed]",
      "text/plain": [
       "<Figure size 432x288 with 1 Axes>"
      ]
     },
     "metadata": {
      "needs_background": "light"
     },
     "output_type": "display_data"
    }
   ],
   "source": [
    "train_df = data_df.sample(n = int(len(data_df) * 0.8), random_state = 1030)\n",
    "print (\"number of training data\",len(train_df))\n",
    "train_df.polarity.value_counts().plot(kind = \"bar\")"
   ]
  },
  {
   "cell_type": "code",
   "execution_count": 20,
   "metadata": {},
   "outputs": [
    {
     "name": "stdout",
     "output_type": "stream",
     "text": [
      "number of training data 744\n"
     ]
    },
    {
     "data": {
      "text/plain": [
       "<matplotlib.axes._subplots.AxesSubplot at 0x7f415a60e048>"
      ]
     },
     "execution_count": 20,
     "metadata": {},
     "output_type": "execute_result"
    },
    {
     "data": {
      "image/png": "[encoded data removed]",
      "text/plain": [
       "<Figure size 432x288 with 1 Axes>"
      ]
     },
     "metadata": {
      "needs_background": "light"
     },
     "output_type": "display_data"
    }
   ],
   "source": [
    "test_df = data_df[~data_df.index.isin(train_df.index.tolist())]\n",
    "print (\"number of training data\",len(test_df))\n",
    "test_df.polarity.value_counts().plot(kind = \"bar\")"
   ]
  },
  {
   "cell_type": "code",
   "execution_count": 21,
   "metadata": {},
   "outputs": [
    {
     "data": {
      "text/plain": [
       "set()"
      ]
     },
     "execution_count": 21,
     "metadata": {},
     "output_type": "execute_result"
    }
   ],
   "source": [
    "set(test_df.index.unique())&set(train_df.index.unique())"
   ]
  },
  {
   "cell_type": "code",
   "execution_count": 1,
   "metadata": {},
   "outputs": [
    {
     "ename": "NameError",
     "evalue": "name 'train_df' is not defined",
     "output_type": "error",
     "traceback": [
      "\u001b[0;31m---------------------------------------------------------------\u001b[0m",
      "\u001b[0;31mNameError\u001b[0m                     Traceback (most recent call last)",
      "\u001b[0;32m<ipython-input-1-193753be380d>\u001b[0m in \u001b[0;36m<module>\u001b[0;34m\u001b[0m\n\u001b[0;32m----> 1\u001b[0;31m \u001b[0mtrain_df\u001b[0m\u001b[0;34m.\u001b[0m\u001b[0mhead\u001b[0m\u001b[0;34m(\u001b[0m\u001b[0;34m)\u001b[0m\u001b[0;34m\u001b[0m\u001b[0m\n\u001b[0m",
      "\u001b[0;31mNameError\u001b[0m: name 'train_df' is not defined"
     ]
    }
   ],
   "source": [
    "train_df.head()"
   ]
  },
  {
   "cell_type": "code",
   "execution_count": 26,
   "metadata": {},
   "outputs": [
    {
     "data": {
      "text/plain": [
       "count    2972.000000\n",
       "mean       30.398385\n",
       "std        14.208908\n",
       "min         3.000000\n",
       "25%        17.000000\n",
       "50%        30.000000\n",
       "75%        43.000000\n",
       "max        62.000000\n",
       "Name: text, dtype: float64"
      ]
     },
     "execution_count": 26,
     "metadata": {},
     "output_type": "execute_result"
    }
   ],
   "source": [
    "train_df.text.apply(lambda x: len(x.split(\" \"))).describe()"
   ]
  },
  {
   "cell_type": "code",
   "execution_count": 27,
   "metadata": {},
   "outputs": [
    {
     "data": {
      "text/plain": [
       "count    744.000000\n",
       "mean      30.327957\n",
       "std       14.419404\n",
       "min        3.000000\n",
       "25%       17.000000\n",
       "50%       30.000000\n",
       "75%       42.250000\n",
       "max       62.000000\n",
       "Name: text, dtype: float64"
      ]
     },
     "execution_count": 27,
     "metadata": {},
     "output_type": "execute_result"
    }
   ],
   "source": [
    "test_df.text.apply(lambda x: len(x.split(\" \"))).describe()"
   ]
  },
  {
   "cell_type": "code",
   "execution_count": null,
   "metadata": {},
   "outputs": [],
   "source": []
  },
  {
   "cell_type": "code",
   "execution_count": 40,
   "metadata": {},
   "outputs": [],
   "source": [
    "f = open(\"/ldap_home/yunrui.li/ABSA-PyTorch/datasets/headphone/headphone_train.txt\", 'w')\n",
    "\n",
    "for ix, row in train_df.iterrows():\n",
    "    text = row.text.strip(\" \")\n",
    "    text = text.replace(\"\\n\", \" \")\n",
    "    text = text + \" \" +\"$T$\"\n",
    "    aspect = row.aspect\n",
    "    polarity = str(row.polarity)\n",
    "    f.write(text)\n",
    "    f.write(\"\\n\")\n",
    "    f.write(aspect)\n",
    "    f.write(\"\\n\")\n",
    "    f.write(polarity)\n",
    "    f.write(\"\\n\")\n",
    "    \n",
    "f.close()"
   ]
  },
  {
   "cell_type": "code",
   "execution_count": 41,
   "metadata": {},
   "outputs": [],
   "source": [
    "f = open(\"/ldap_home/yunrui.li/ABSA-PyTorch/datasets/headphone/headphone_test.txt\", 'w')\n",
    "\n",
    "for ix, row in test_df.iterrows():\n",
    "    text = row.text.strip(\" \")\n",
    "    text = text.replace(\"\\n\", \" \")\n",
    "    text = text + \" \" +\"$T$\"\n",
    "    aspect = row.aspect\n",
    "    polarity = str(row.polarity)\n",
    "    f.write(text)\n",
    "    f.write(\"\\n\")\n",
    "    f.write(aspect)\n",
    "    f.write(\"\\n\")\n",
    "    f.write(polarity)\n",
    "    f.write(\"\\n\")\n",
    "    \n",
    "f.close()"
   ]
  },
  {
   "cell_type": "code",
   "execution_count": 39,
   "metadata": {},
   "outputs": [
    {
     "data": {
      "text/plain": [
       "'Har använt mina lurar i snart en månad och är väldigt nöjd med ljudet tillsammans med min SONY Experia Mini $T$ .'"
      ]
     },
     "execution_count": 39,
     "metadata": {},
     "output_type": "execute_result"
    }
   ],
   "source": [
    "text[:-1] +\" \" + \"$T$\" + \" \" + text[-1:]"
   ]
  },
  {
   "cell_type": "code",
   "execution_count": null,
   "metadata": {},
   "outputs": [],
   "source": []
  }
 ],
 "metadata": {
  "kernelspec": {
   "display_name": "Python 3",
   "language": "python",
   "name": "python3"
  },
  "language_info": {
   "codemirror_mode": {
    "name": "ipython",
    "version": 3
   },
   "file_extension": ".py",
   "mimetype": "text/x-python",
   "name": "python",
   "nbconvert_exporter": "python",
   "pygments_lexer": "ipython3",
   "version": "3.6.6"
  }
 },
 "nbformat": 4,
 "nbformat_minor": 2
}
